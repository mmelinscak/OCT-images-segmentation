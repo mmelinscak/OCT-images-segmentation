{
  "nbformat": 4,
  "nbformat_minor": 0,
  "metadata": {
    "colab": {
      "name": "interobserver error_IEEE.ipynb",
      "provenance": [],
      "collapsed_sections": [],
      "machine_shape": "hm"
    },
    "kernelspec": {
      "name": "python3",
      "display_name": "Python 3"
    }
  },
  "cells": [
    {
      "cell_type": "code",
      "metadata": {
        "id": "-Mt8X5k7SmBW",
        "colab_type": "code",
        "outputId": "f0ba22d2-4fe2-4d1e-f9bf-35e278af9e92",
        "colab": {
          "base_uri": "https://localhost:8080/",
          "height": 35
        }
      },
      "source": [
        "from google.colab import drive\n",
        "drive.mount('/content/drive')"
      ],
      "execution_count": 27,
      "outputs": [
        {
          "output_type": "stream",
          "text": [
            "Drive already mounted at /content/drive; to attempt to forcibly remount, call drive.mount(\"/content/drive\", force_remount=True).\n"
          ],
          "name": "stdout"
        }
      ]
    },
    {
      "cell_type": "code",
      "metadata": {
        "id": "mX3o5jDNraNl",
        "colab_type": "code",
        "colab": {
          "base_uri": "https://localhost:8080/",
          "height": 70
        },
        "outputId": "c7590702-bc7b-4558-e723-21b9203678de"
      },
      "source": [
        "!pip install pycm"
      ],
      "execution_count": 28,
      "outputs": [
        {
          "output_type": "stream",
          "text": [
            "Requirement already satisfied: pycm in /usr/local/lib/python3.6/dist-packages (2.7)\n",
            "Requirement already satisfied: art>=1.8 in /usr/local/lib/python3.6/dist-packages (from pycm) (4.7)\n",
            "Requirement already satisfied: numpy>=1.9.0 in /usr/local/lib/python3.6/dist-packages (from pycm) (1.18.5)\n"
          ],
          "name": "stdout"
        }
      ]
    },
    {
      "cell_type": "code",
      "metadata": {
        "id": "z11NCBaCbTca",
        "colab_type": "code",
        "colab": {}
      },
      "source": [
        "#packages\n",
        "import numpy as np\n",
        "import math\n",
        "import matplotlib.pyplot as plt\n",
        "import matplotlib.image as mpimg\n",
        "import scipy\n",
        "from scipy import ndimage\n",
        "import cv2\n",
        "from PIL import Image\n",
        "from pathlib import Path\n",
        "import os, sys\n",
        "import glob\n",
        "import pycm\n",
        "from pycm import *"
      ],
      "execution_count": 0,
      "outputs": []
    },
    {
      "cell_type": "markdown",
      "metadata": {
        "id": "4nEeGpz4EQfb",
        "colab_type": "text"
      },
      "source": [
        "Loading images"
      ]
    },
    {
      "cell_type": "code",
      "metadata": {
        "id": "ivoeqscGcbZQ",
        "colab_type": "code",
        "colab": {}
      },
      "source": [
        "IMG_WIDTH = 512\n",
        "IMG_HEIGHT = 1024\n",
        "IMG_CHANNELS = 1\n",
        "\n",
        "# paths to image folders \n",
        "GT_path='/content/drive/My Drive/Colab Notebooks/interobserver/GT'\n",
        "inter_path='/content/drive/My Drive/Colab Notebooks/interobserver/interobserver'\n",
        "intra_path='/content/drive/My Drive/Colab Notebooks/interobserver/intraobserver'\n"
      ],
      "execution_count": 0,
      "outputs": []
    },
    {
      "cell_type": "code",
      "metadata": {
        "id": "UH1OoJvNIF43",
        "colab_type": "code",
        "colab": {}
      },
      "source": [
        "# reading images \n",
        "# fuction return values of images as array [number of images, image_height, image_width, img_channels]\n",
        "\n",
        "def load_data (path1, path2, path3, total=75):\n",
        "  m=os.listdir(path1) \n",
        "  img1 = np.zeros((total, IMG_HEIGHT, IMG_WIDTH, IMG_CHANNELS))\n",
        "  img2 = np.zeros((total, IMG_HEIGHT, IMG_WIDTH, IMG_CHANNELS))\n",
        "  img3 = np.zeros((total, IMG_HEIGHT, IMG_WIDTH, IMG_CHANNELS))\n",
        "  for i in range (0, total):\n",
        "   sample1 = cv2.imread(path1 + '/' + m[i], 0) \n",
        "   img1[i] = np.reshape(sample1, (IMG_HEIGHT, IMG_WIDTH, IMG_CHANNELS))\n",
        "   sample2 = cv2.imread(path2 + '/' + m[i], 0) \n",
        "   img2[i] = np.reshape(sample2, (IMG_HEIGHT, IMG_WIDTH, IMG_CHANNELS))\n",
        "   sample3 = cv2.imread(path3 + '/' + m[i], 0) \n",
        "   img3[i] = np.reshape(sample3, (IMG_HEIGHT, IMG_WIDTH, IMG_CHANNELS))\n",
        "  return img1, img2, img3"
      ],
      "execution_count": 0,
      "outputs": []
    },
    {
      "cell_type": "code",
      "metadata": {
        "id": "KfRJCVhwLC4y",
        "colab_type": "code",
        "colab": {}
      },
      "source": [
        "GT_images, inter_images, intra_images = load_data (GT_path, inter_path, intra_path, total=75)"
      ],
      "execution_count": 0,
      "outputs": []
    },
    {
      "cell_type": "markdown",
      "metadata": {
        "id": "6Vl47oWaELiJ",
        "colab_type": "text"
      },
      "source": [
        "Plotting images\n",
        "- cheking if everything is ok"
      ]
    },
    {
      "cell_type": "code",
      "metadata": {
        "id": "ce3nf3hvOLIf",
        "colab_type": "code",
        "colab": {}
      },
      "source": [
        "# colour definition\n",
        "black = np.array([0, 0, 0, 255])\n",
        "white = np.array([255, 255, 255, 255])\n",
        "yellow = np.array([255, 255, 0, 255])\n",
        "red = np.array([255, 0, 0, 255]) \n",
        "blue = np.array([0, 0, 255, 255])\n",
        "light_blue = np.array([0, 255, 255, 255])\n",
        "green = np.array([0, 255, 0, 255])\n",
        "pink = np.array([255, 0, 255, 255]) \n",
        "\n",
        "# function which trasform mask values 0,1,2,3,4,5,6,7 into colours\n",
        "def num_to_colors (mask, height, width):\n",
        "    col_mask = np.zeros((height, width, 4))\n",
        "    for j in range (0,width):\n",
        "        for i in range (0,height):\n",
        "            if (mask[i,j]==0):\n",
        "                col_mask[i,j]=black\n",
        "            elif (mask[i,j]==1):\n",
        "                col_mask[i,j]= red\n",
        "            elif (mask[i,j]==2):\n",
        "                col_mask[i,j]=yellow\n",
        "            elif (mask[i,j]==3):\n",
        "                col_mask[i,j]=green\n",
        "            elif (mask[i,j]==4):\n",
        "                col_mask[i,j]=blue\n",
        "            elif (mask[i,j]==5):\n",
        "                col_mask[i,j]=light_blue\n",
        "            elif (mask[i,j]==6):\n",
        "                col_mask[i,j]=pink\n",
        "            elif (mask[i,j]==7):\n",
        "                col_mask[i,j]=white\n",
        "           \n",
        "    return col_mask\n"
      ],
      "execution_count": 0,
      "outputs": []
    },
    {
      "cell_type": "code",
      "metadata": {
        "id": "Bl0IrIbSMx21",
        "colab_type": "code",
        "outputId": "473abf73-97c3-4275-e060-7fad4a036e00",
        "colab": {
          "base_uri": "https://localhost:8080/",
          "height": 809
        }
      },
      "source": [
        "#plotting images\n",
        "m=os.listdir(GT_path)\n",
        "i = np.random.randint(0, 75)\n",
        "print('Image id:',i ,  m[i])\n",
        "print()\n",
        "plt.figure(figsize=(20, 20))\n",
        "plt.subplot(1, 3, 1)\n",
        "plt.title('GT')\n",
        "mask1 = np.reshape(GT_images[i], (IMG_HEIGHT, IMG_WIDTH))\n",
        "mask1 = num_to_colors (mask1, IMG_HEIGHT, IMG_WIDTH)\n",
        "plt.imshow(mask1)\n",
        "plt.subplot(1, 3, 2)\n",
        "plt.title('inter')\n",
        "mask2 = np.reshape(inter_images[i], (IMG_HEIGHT, IMG_WIDTH))\n",
        "mask2 = num_to_colors (mask2, IMG_HEIGHT, IMG_WIDTH)\n",
        "plt.imshow(mask2)\n",
        "plt.subplot(1, 3, 3)\n",
        "plt.title('intra')\n",
        "mask3 = np.reshape(intra_images[i], (IMG_HEIGHT, IMG_WIDTH))\n",
        "mask3 = num_to_colors (mask3, IMG_HEIGHT, IMG_WIDTH)\n",
        "plt.imshow(mask3)\n",
        "plt.show()\n"
      ],
      "execution_count": 37,
      "outputs": [
        {
          "output_type": "stream",
          "text": [
            "Image id: 19 scan (19).png\n",
            "\n"
          ],
          "name": "stdout"
        },
        {
          "output_type": "stream",
          "text": [
            "Clipping input data to the valid range for imshow with RGB data ([0..1] for floats or [0..255] for integers).\n",
            "Clipping input data to the valid range for imshow with RGB data ([0..1] for floats or [0..255] for integers).\n",
            "Clipping input data to the valid range for imshow with RGB data ([0..1] for floats or [0..255] for integers).\n"
          ],
          "name": "stderr"
        },
        {
          "output_type": "display_data",
          "data": {
            "image/png": "[encoded data removed]",
            "text/plain": [
              "<Figure size 1440x1440 with 3 Axes>"
            ]
          },
          "metadata": {
            "tags": [],
            "needs_background": "light"
          }
        }
      ]
    },
    {
      "cell_type": "code",
      "metadata": {
        "id": "dHPByOuPRDGc",
        "colab_type": "code",
        "colab": {}
      },
      "source": [
        "GT_vector=GT_images[0].flatten()\n",
        "for k  in range(1,75):\n",
        "    GT_vector=np.concatenate((GT_vector, GT_images[k].flatten()), axis=0)\n"
      ],
      "execution_count": 0,
      "outputs": []
    },
    {
      "cell_type": "code",
      "metadata": {
        "id": "_-V4ZuiedWXR",
        "colab_type": "code",
        "colab": {
          "base_uri": "https://localhost:8080/",
          "height": 52
        },
        "outputId": "74684cf6-4c36-416f-b901-bcf4080c9c29"
      },
      "source": [
        "print(np.shape(GT_vector))\n",
        "print(75*1024*512)"
      ],
      "execution_count": 41,
      "outputs": [
        {
          "output_type": "stream",
          "text": [
            "(39321600,)\n",
            "39321600\n"
          ],
          "name": "stdout"
        }
      ]
    },
    {
      "cell_type": "code",
      "metadata": {
        "id": "DlMKvgn9d6kv",
        "colab_type": "code",
        "colab": {}
      },
      "source": [
        "inter_vector=inter_images[0].flatten()\n",
        "for k  in range(1,75):\n",
        "    inter_vector=np.concatenate((inter_vector, inter_images[k].flatten()), axis=0)"
      ],
      "execution_count": 0,
      "outputs": []
    },
    {
      "cell_type": "code",
      "metadata": {
        "id": "g3ntnqrd9G_C",
        "colab_type": "code",
        "colab": {}
      },
      "source": [
        "intra_vector=intra_images[0].flatten()\n",
        "for k  in range(1,75):\n",
        "    intra_vector=np.concatenate((intra_vector, intra_images[k].flatten()), axis=0)"
      ],
      "execution_count": 0,
      "outputs": []
    },
    {
      "cell_type": "code",
      "metadata": {
        "id": "B8jkzpynd_dP",
        "colab_type": "code",
        "colab": {}
      },
      "source": [
        "cm = ConfusionMatrix(actual_vector=GT_vector, predict_vector=inter_vector)"
      ],
      "execution_count": 0,
      "outputs": []
    },
    {
      "cell_type": "code",
      "metadata": {
        "id": "k-qGQW6IwBGn",
        "colab_type": "code",
        "colab": {
          "base_uri": "https://localhost:8080/",
          "height": 35
        },
        "outputId": "45e0ab01-5bbd-441e-d783-21d858dde457"
      },
      "source": [
        "cm.classes"
      ],
      "execution_count": 45,
      "outputs": [
        {
          "output_type": "execute_result",
          "data": {
            "text/plain": [
              "[0.0, 1.0, 2.0, 3.0, 4.0, 5.0, 6.0, 7.0]"
            ]
          },
          "metadata": {
            "tags": []
          },
          "execution_count": 45
        }
      ]
    },
    {
      "cell_type": "code",
      "metadata": {
        "id": "dN0rF7FG7EqN",
        "colab_type": "code",
        "outputId": "9f954960-815f-4a75-bf54-9cff92126b9a",
        "colab": {
          "base_uri": "https://localhost:8080/",
          "height": 1000
        }
      },
      "source": [
        "print(cm)"
      ],
      "execution_count": 46,
      "outputs": [
        {
          "output_type": "stream",
          "text": [
            "Predict        0.0            1.0            2.0            3.0            4.0            5.0            6.0            7.0            \n",
            "Actual\n",
            "0.0            13389597       66291          2138           4613           1347           517            0              0              \n",
            "\n",
            "1.0            35666          1939834        46474          0              0              0              0              1068           \n",
            "\n",
            "2.0            43394          55646          2952588        46104          0              1034           17488          12167          \n",
            "\n",
            "3.0            4593           13             24118          324960         14317          56899          1925           0              \n",
            "\n",
            "4.0            315682         0              0              66274          18858381       13033          0              0              \n",
            "\n",
            "5.0            171            0              3170           42200          1086           418485         2056           0              \n",
            "\n",
            "6.0            2053           0              57252          19362          0              15583          408852         454            \n",
            "\n",
            "7.0            1201           740            13047          2              0              0              0              39725          \n",
            "\n",
            "\n",
            "\n",
            "\n",
            "\n",
            "Overall Statistics : \n",
            "\n",
            "95% CI                                                            (0.97479,0.97489)\n",
            "ACC Macro                                                         0.99371\n",
            "ARI                                                               0.95587\n",
            "AUNP                                                              0.98426\n",
            "AUNU                                                              0.94001\n",
            "Bangdiwala B                                                      0.97196\n",
            "Bennett S                                                         0.97125\n",
            "CBA                                                               0.85572\n",
            "CSI                                                               0.76274\n",
            "Chi-Squared                                                       209285787.4673\n",
            "Chi-Squared DF                                                    49\n",
            "Conditional Entropy                                               0.18073\n",
            "Cramer V                                                          0.87198\n",
            "Cross Entropy                                                     1.78597\n",
            "F1 Macro                                                          0.87987\n",
            "F1 Micro                                                          0.97484\n",
            "FNR Macro                                                         0.11604\n",
            "FNR Micro                                                         0.02516\n",
            "FPR Macro                                                         0.00393\n",
            "FPR Micro                                                         0.00359\n",
            "Gwet AC1                                                          0.97233\n",
            "Hamming Loss                                                      0.02516\n",
            "Joint Entropy                                                     1.9659\n",
            "KL Divergence                                                     0.0008\n",
            "Kappa                                                             0.96041\n",
            "Kappa 95% CI                                                      (0.96034,0.96049)\n",
            "Kappa No Prevalence                                               0.94969\n",
            "Kappa Standard Error                                              4e-05\n",
            "Kappa Unbiased                                                    0.96041\n",
            "Lambda A                                                          0.95071\n",
            "Lambda B                                                          0.95162\n",
            "Mutual Information                                                1.61512\n",
            "NIR                                                               0.48964\n",
            "Overall ACC                                                       0.97484\n",
            "Overall CEN                                                       0.04352\n",
            "Overall J                                                         (6.40121,0.80015)\n",
            "Overall MCC                                                       0.96055\n",
            "Overall MCEN                                                      0.07343\n",
            "Overall RACC                                                      0.36454\n",
            "Overall RACCU                                                     0.36459\n",
            "P-Value                                                           None\n",
            "PPV Macro                                                         0.87878\n",
            "PPV Micro                                                         0.97484\n",
            "Pearson C                                                         0.91751\n",
            "Phi-Squared                                                       5.32241\n",
            "RCI                                                               0.90474\n",
            "RR                                                                4915200.0\n",
            "Reference Entropy                                                 1.78517\n",
            "Response Entropy                                                  1.79584\n",
            "SOA1(Landis & Koch)                                               Almost Perfect\n",
            "SOA2(Fleiss)                                                      Excellent\n",
            "SOA3(Altman)                                                      Very Good\n",
            "SOA4(Cicchetti)                                                   Excellent\n",
            "SOA5(Cramer)                                                      Very Strong\n",
            "SOA6(Matthews)                                                    Very Strong\n",
            "Scott PI                                                          0.96041\n",
            "Standard Error                                                    2e-05\n",
            "TNR Macro                                                         0.99607\n",
            "TNR Micro                                                         0.99641\n",
            "TPR Macro                                                         0.88396\n",
            "TPR Micro                                                         0.97484\n",
            "Zero-one Loss                                                     989178\n",
            "\n",
            "Class Statistics :\n",
            "\n",
            "Classes                                                           0.0           1.0           2.0           3.0           4.0           5.0           6.0           7.0           \n",
            "ACC(Accuracy)                                                     0.98785       0.99476       0.99181       0.99287       0.98953       0.99655       0.99705       0.99927       \n",
            "AGF(Adjusted F-score)                                             0.99206       0.97612       0.97013       0.85599       0.98384       0.9381        0.91353       0.85395       \n",
            "AGM(Adjusted geometric mean)                                      0.98744       0.98691       0.9822        0.93264       0.99262       0.97142       0.94982       0.92574       \n",
            "AM(Difference between automatic and manual classification)        327854        39482         -29634        76690         -378239       38383         -73235        -1301         \n",
            "AUC(Area under the ROC curve)                                     0.98943       0.97779       0.96988       0.87838       0.98933       0.94678       0.90569       0.86284       \n",
            "AUCI(AUC value interpretation)                                    Excellent     Excellent     Excellent     Very Good     Excellent     Excellent     Excellent     Very Good     \n",
            "AUPR(Area under the PR curve)                                     0.98262       0.94969       0.94831       0.70336       0.9893        0.86179       0.88102       0.73488       \n",
            "BCD(Bray-Curtis dissimilarity)                                    0.00417       0.0005        0.00038       0.00098       0.00481       0.00049       0.00093       2e-05         \n",
            "BM(Informedness or bookmaker informedness)                        0.97886       0.95558       0.93976       0.75675       0.97865       0.89355       0.81138       0.72569       \n",
            "CEN(Confusion entropy)                                            0.03441       0.08391       0.1           0.36123       0.02163       0.18122       0.16585       0.24777       \n",
            "DOR(Diagnostic odds ratio)                                        11297.08397   7064.0121     4140.25364    691.71286     57154.57853   3827.54464    7801.52268    7599.15971    \n",
            "DP(Discriminant power)                                            2.23452       2.12209       1.99417       1.56573       2.6227        1.97537       2.14587       2.13958       \n",
            "DPI(Discriminant power interpretation)                            Fair          Fair          Limited       Limited       Fair          Limited       Fair          Fair          \n",
            "ERR(Error rate)                                                   0.01215       0.00524       0.00819       0.00713       0.01047       0.00345       0.00295       0.00073       \n",
            "F0.5(F0.5 score)                                                  0.97544       0.94413       0.951         0.66566       0.99512       0.84054       0.91883       0.74011       \n",
            "F1(F1 score - harmonic mean of precision and sensitivity)         0.98248       0.9496        0.94829       0.69858       0.9892        0.86044       0.8756        0.73477       \n",
            "F2(F2 score)                                                      0.98962       0.95514       0.94559       0.73493       0.98335       0.88131       0.83625       0.7295        \n",
            "FDR(False discovery rate)                                         0.0292        0.05949       0.04718       0.35462       0.00089       0.17222       0.04989       0.25628       \n",
            "FN(False negative/miss/type 2 error)                              74906         83208         175833        101865        394989        48683         94704         14990         \n",
            "FNR(Miss rate or false negative rate)                             0.00556       0.04113       0.05621       0.23866       0.02052       0.10421       0.18807       0.27397       \n",
            "FOR(False omission rate)                                          0.00293       0.00223       0.00485       0.00262       0.01932       0.00125       0.00244       0.00038       \n",
            "FP(False positive/type 1 error/false alarm)                       402760        122690        146199        178555        16750         87066         21469         13689         \n",
            "FPR(Fall-out or false positive rate)                              0.01558       0.00329       0.00404       0.00459       0.00083       0.00224       0.00055       0.00035       \n",
            "G(G-measure geometric mean of precision and sensitivity)          0.98255       0.94965       0.9483        0.70097       0.98925       0.86111       0.87831       0.73482       \n",
            "GI(Gini index)                                                    0.97886       0.95558       0.93976       0.75675       0.97865       0.89355       0.81138       0.72569       \n",
            "GM(G-mean geometric mean of specificity and sensitivity)          0.98942       0.97761       0.96953       0.87054       0.98928       0.9454        0.90082       0.85193       \n",
            "IBA(Index of balanced accuracy)                                   0.98875       0.91955       0.89095       0.58046       0.95941       0.80265       0.65931       0.5272        \n",
            "ICSI(Individual classification success index)                     0.96524       0.89938       0.89662       0.40673       0.9786        0.72357       0.76204       0.46975       \n",
            "IS(Information score)                                             1.5034        4.19225       3.58209       5.89376       1.02893       6.12256       6.21319       9.062         \n",
            "J(Jaccard index)                                                  0.96555       0.90404       0.90166       0.53679       0.97863       0.75507       0.77873       0.58074       \n",
            "LS(Lift score)                                                    2.83511       18.28066      11.97615      59.45643      2.04051       69.67436      74.19199      534.48261     \n",
            "MCC(Matthews correlation coefficient)                             0.97335       0.94689       0.94385       0.69743       0.97922       0.85938       0.87688       0.73446       \n",
            "MCCI(Matthews correlation coefficient interpretation)             Very Strong   Very Strong   Very Strong   Moderate      Very Strong   Strong        Strong        Strong        \n",
            "MCEN(Modified confusion entropy)                                  0.05882       0.13636       0.16622       0.47971       0.03728       0.26586       0.24672       0.31891       \n",
            "MK(Markedness)                                                    0.96786       0.93828       0.94797       0.64276       0.97979       0.82653       0.94767       0.74334       \n",
            "N(Condition negative)                                             25857097      37298558      36193179      38894775      20068230      38854432      38818044      39266885      \n",
            "NLR(Negative likelihood ratio)                                    0.00565       0.04127       0.05643       0.23976       0.02053       0.10444       0.18817       0.27406       \n",
            "NLRI(Negative likelihood ratio interpretation)                    Good          Good          Good          Poor          Good          Fair          Fair          Poor          \n",
            "NPV(Negative predictive value)                                    0.99707       0.99777       0.99515       0.99738       0.98068       0.99875       0.99756       0.99962       \n",
            "OC(Overlap coefficient)                                           0.99444       0.95887       0.95282       0.76134       0.99911       0.89579       0.95011       0.74372       \n",
            "OOC(Otsuka-Ochiai coefficient)                                    0.98255       0.94965       0.9483        0.70097       0.98925       0.86111       0.87831       0.73482       \n",
            "OP(Optimized precision)                                           0.98279       0.97541       0.96492       0.85963       0.97958       0.9427        0.89352       0.84072       \n",
            "P(Condition positive or support)                                  13464503      2023042       3128421       426825        19253370      467168        503556        54715         \n",
            "PLR(Positive likelihood ratio)                                    63.84261      291.50267     233.64688     165.84382     1173.52381    399.75949     1468.04776    2082.63052    \n",
            "PLRI(Positive likelihood ratio interpretation)                    Good          Good          Good          Good          Good          Good          Good          Good          \n",
            "POP(Population)                                                   39321600      39321600      39321600      39321600      39321600      39321600      39321600      39321600      \n",
            "PPV(Precision or positive predictive value)                       0.9708        0.94051       0.95282       0.64538       0.99911       0.82778       0.95011       0.74372       \n",
            "PRE(Prevalence)                                                   0.34242       0.05145       0.07956       0.01085       0.48964       0.01188       0.01281       0.00139       \n",
            "Q(Yule Q - coefficient of colligation)                            0.99982       0.99972       0.99952       0.99711       0.99997       0.99948       0.99974       0.99974       \n",
            "QI(Yule Q interpretation)                                         Strong        Strong        Strong        Strong        Strong        Strong        Strong        Strong        \n",
            "RACC(Random accuracy)                                             0.12011       0.0027        0.00627       0.00014       0.23504       0.00015       0.00014       0.0           \n",
            "RACCU(Random accuracy unbiased)                                   0.12012       0.0027        0.00627       0.00014       0.23506       0.00015       0.00014       0.0           \n",
            "TN(True negative/correct rejection)                               25454337      37175868      36046980      38716220      20051480      38767366      38796575      39253196      \n",
            "TNR(Specificity or true negative rate)                            0.98442       0.99671       0.99596       0.99541       0.99917       0.99776       0.99945       0.99965       \n",
            "TON(Test outcome negative)                                        25529243      37259076      36222813      38818085      20446469      38816049      38891279      39268186      \n",
            "TOP(Test outcome positive)                                        13792357      2062524       3098787       503515        18875131      505551        430321        53414         \n",
            "TP(True positive/hit)                                             13389597      1939834       2952588       324960        18858381      418485        408852        39725         \n",
            "TPR(Sensitivity, recall, hit rate, or true positive rate)         0.99444       0.95887       0.94379       0.76134       0.97948       0.89579       0.81193       0.72603       \n",
            "Y(Youden index)                                                   0.97886       0.95558       0.93976       0.75675       0.97865       0.89355       0.81138       0.72569       \n",
            "dInd(Distance index)                                              0.01654       0.04126       0.05635       0.2387        0.02053       0.10423       0.18807       0.27397       \n",
            "sInd(Similarity index)                                            0.9883        0.97082       0.96015       0.83121       0.98548       0.9263        0.86701       0.80628       \n",
            "\n"
          ],
          "name": "stdout"
        }
      ]
    },
    {
      "cell_type": "code",
      "metadata": {
        "id": "1h0Q95Ez6c0g",
        "colab_type": "code",
        "colab": {}
      },
      "source": [
        "print(cm, file=open(\"interobserver_error.rtf\", \"a\"))\n",
        "\n"
      ],
      "execution_count": 0,
      "outputs": []
    },
    {
      "cell_type": "code",
      "metadata": {
        "id": "Th3b8sdt8zA5",
        "colab_type": "code",
        "colab": {}
      },
      "source": [
        "cm = ConfusionMatrix(actual_vector=GT_vector, predict_vector=intra_vector)\n"
      ],
      "execution_count": 0,
      "outputs": []
    },
    {
      "cell_type": "code",
      "metadata": {
        "id": "-7OAdEOpNft9",
        "colab_type": "code",
        "outputId": "e5bb3d26-705c-4b82-a365-084267acc6a8",
        "colab": {
          "base_uri": "https://localhost:8080/",
          "height": 1000
        }
      },
      "source": [
        "print(cm)\n"
      ],
      "execution_count": 50,
      "outputs": [
        {
          "output_type": "stream",
          "text": [
            "Predict        0.0            1.0            2.0            3.0            4.0            5.0            6.0            7.0            \n",
            "Actual\n",
            "0.0            13423444       32129          2372           4802           1602           153            1              0              \n",
            "\n",
            "1.0            8839           1970496        42872          0              0              0              0              835            \n",
            "\n",
            "2.0            1              22772          3067278        22192          0              517            12181          3480           \n",
            "\n",
            "3.0            5              0              26018          341004         19106          30667          10025          0              \n",
            "\n",
            "4.0            2              0              0              33863          19217364       2141           0              0              \n",
            "\n",
            "5.0            0              0              1011           42183          2375           420520         1079           0              \n",
            "\n",
            "6.0            0              0              44906          5367           1              905            452034         343            \n",
            "\n",
            "7.0            0              709            10694          0              0              0              0              43312          \n",
            "\n",
            "\n",
            "\n",
            "\n",
            "\n",
            "Overall Statistics : \n",
            "\n",
            "95% CI                                                            (0.99015,0.99021)\n",
            "ACC Macro                                                         0.99754\n",
            "ARI                                                               0.99234\n",
            "AUNP                                                              0.99455\n",
            "AUNU                                                              0.95794\n",
            "Bangdiwala B                                                      0.99513\n",
            "Bennett S                                                         0.98878\n",
            "CBA                                                               0.90948\n",
            "CSI                                                               0.85071\n",
            "Chi-Squared                                                       232232777.40307\n",
            "Chi-Squared DF                                                    49\n",
            "Conditional Entropy                                               0.0715\n",
            "Cramer V                                                          0.91854\n",
            "Cross Entropy                                                     1.78527\n",
            "F1 Macro                                                          0.9247\n",
            "F1 Micro                                                          0.99018\n",
            "FNR Macro                                                         0.08276\n",
            "FNR Micro                                                         0.00982\n",
            "FPR Macro                                                         0.00136\n",
            "FPR Micro                                                         0.0014\n",
            "Gwet AC1                                                          0.9892\n",
            "Hamming Loss                                                      0.00982\n",
            "Joint Entropy                                                     1.85667\n",
            "KL Divergence                                                     0.0001\n",
            "Kappa                                                             0.98451\n",
            "Kappa 95% CI                                                      (0.98446,0.98456)\n",
            "Kappa No Prevalence                                               0.98036\n",
            "Kappa Standard Error                                              2e-05\n",
            "Kappa Unbiased                                                    0.98451\n",
            "Lambda A                                                          0.98076\n",
            "Lambda B                                                          0.98077\n",
            "Mutual Information                                                1.71411\n",
            "NIR                                                               0.48964\n",
            "Overall ACC                                                       0.99018\n",
            "Overall CEN                                                       0.01774\n",
            "Overall J                                                         (6.9462,0.86828)\n",
            "Overall MCC                                                       0.98451\n",
            "Overall MCEN                                                      0.03063\n",
            "Overall RACC                                                      0.36609\n",
            "Overall RACCU                                                     0.36609\n",
            "P-Value                                                           None\n",
            "PPV Macro                                                         0.93347\n",
            "PPV Micro                                                         0.99018\n",
            "Pearson C                                                         0.92477\n",
            "Phi-Squared                                                       5.90598\n",
            "RCI                                                               0.96019\n",
            "RR                                                                4915200.0\n",
            "Reference Entropy                                                 1.78517\n",
            "Response Entropy                                                  1.78561\n",
            "SOA1(Landis & Koch)                                               Almost Perfect\n",
            "SOA2(Fleiss)                                                      Excellent\n",
            "SOA3(Altman)                                                      Very Good\n",
            "SOA4(Cicchetti)                                                   Excellent\n",
            "SOA5(Cramer)                                                      Very Strong\n",
            "SOA6(Matthews)                                                    Very Strong\n",
            "Scott PI                                                          0.98451\n",
            "Standard Error                                                    2e-05\n",
            "TNR Macro                                                         0.99864\n",
            "TNR Micro                                                         0.9986\n",
            "TPR Macro                                                         0.91724\n",
            "TPR Micro                                                         0.99018\n",
            "Zero-one Loss                                                     386148\n",
            "\n",
            "Class Statistics :\n",
            "\n",
            "Classes                                                           0.0           1.0           2.0           3.0           4.0           5.0           6.0           7.0           \n",
            "ACC(Accuracy)                                                     0.99873       0.99725       0.99519       0.99506       0.9985        0.99794       0.9981        0.99959       \n",
            "AGF(Adjusted F-score)                                             0.99805       0.98607       0.98706       0.8881        0.9983        0.95072       0.95226       0.90077       \n",
            "AGM(Adjusted geometric mean)                                      0.99884       0.99219       0.99228       0.94461       0.99861       0.97358       0.97312       0.94473       \n",
            "AM(Difference between automatic and manual classification)        -32212        3064          66730         22586         -12922        -12265        -28236        -6745         \n",
            "AUC(Area under the ROC curve)                                     0.9983        0.98627       0.98846       0.89807       0.99849       0.94963       0.94854       0.89574       \n",
            "AUCI(AUC value interpretation)                                    Excellent     Excellent     Excellent     Very Good     Excellent     Excellent     Excellent     Very Good     \n",
            "AUPR(Area under the PR curve)                                     0.99815       0.97329       0.97022       0.77886       0.99847       0.91228       0.92435       0.84725       \n",
            "BCD(Bray-Curtis dissimilarity)                                    0.00041       4e-05         0.00085       0.00029       0.00016       0.00016       0.00036       9e-05         \n",
            "BM(Informedness or bookmaker informedness)                        0.99661       0.97254       0.97692       0.79614       0.99698       0.89926       0.89708       0.79147       \n",
            "CEN(Confusion entropy)                                            0.00519       0.05013       0.06206       0.29594       0.00437       0.11806       0.10921       0.16779       \n",
            "DOR(Diagnostic odds ratio)                                        955192.0643   25114.64546   14148.72036   1421.63364    463465.16507  10178.08186   14616.94263   32015.81484   \n",
            "DP(Discriminant power)                                            3.297         2.42581       2.28841       1.73822       3.12384       2.20954       2.29621       2.48394       \n",
            "DPI(Discriminant power interpretation)                            Good          Fair          Fair          Limited       Good          Fair          Fair          Fair          \n",
            "ERR(Error rate)                                                   0.00127       0.00275       0.00481       0.00494       0.0015        0.00206       0.0019        0.00041       \n",
            "F0.5(F0.5 score)                                                  0.99886       0.97285       0.96401       0.76648       0.99867       0.91946       0.93984       0.8782        \n",
            "F1(F1 score - harmonic mean of precision and sensitivity)         0.99814       0.97329       0.97011       0.77834       0.99846       0.91212       0.92358       0.84359       \n",
            "F2(F2 score)                                                      0.99743       0.97373       0.97629       0.79056       0.99826       0.9049        0.90787       0.8116        \n",
            "FDR(False discovery rate)                                         0.00066       0.02745       0.04002       0.24122       0.0012        0.07558       0.04899       0.0971        \n",
            "FN(False negative/miss/type 2 error)                              41059         52546         61143         85821         36006         46648         51522         11403         \n",
            "FNR(Miss rate or false negative rate)                             0.00305       0.02597       0.01954       0.20107       0.00187       0.09985       0.10232       0.20841       \n",
            "FOR(False omission rate)                                          0.00159       0.00141       0.00169       0.00221       0.00179       0.0012        0.00133       0.00029       \n",
            "FP(False positive/type 1 error/false alarm)                       8847          55610         127873        108407        23084         34383         23286         4658          \n",
            "FPR(Fall-out or false positive rate)                              0.00034       0.00149       0.00353       0.00279       0.00115       0.00088       0.0006        0.00012       \n",
            "G(G-measure geometric mean of precision and sensitivity)          0.99815       0.97329       0.97016       0.7786        0.99847       0.9122        0.92396       0.84542       \n",
            "GI(Gini index)                                                    0.99661       0.97254       0.97692       0.79614       0.99698       0.89926       0.89708       0.79147       \n",
            "GM(G-mean geometric mean of specificity and sensitivity)          0.9983        0.98619       0.98843       0.89258       0.99849       0.94834       0.94718       0.88966       \n",
            "IBA(Index of balanced accuracy)                                   0.99391       0.94876       0.96135       0.63873       0.99626       0.81034       0.80589       0.62664       \n",
            "ICSI(Individual classification success index)                     0.99629       0.94658       0.94043       0.55771       0.99693       0.82456       0.84869       0.69449       \n",
            "IS(Information score)                                             1.54521       4.24057       3.59289       6.12729       1.02848       6.28185       6.21456       9.3418        \n",
            "J(Jaccard index)                                                  0.9963        0.94797       0.94195       0.63711       0.99693       0.83844       0.85801       0.72949       \n",
            "LS(Lift score)                                                    2.91847       18.90339      12.06612      69.90321      2.03987       77.8083       74.2623       648.87837     \n",
            "MCC(Matthews correlation coefficient)                             0.99718       0.97184       0.96756       0.77611       0.99699       0.91116       0.92301       0.84522       \n",
            "MCCI(Matthews correlation coefficient interpretation)             Very Strong   Very Strong   Very Strong   Strong        Very Strong   Very Strong   Very Strong   Strong        \n",
            "MCEN(Modified confusion entropy)                                  0.00939       0.08451       0.10592       0.4167        0.00792       0.17976       0.16958       0.23404       \n",
            "MK(Markedness)                                                    0.99776       0.97114       0.95829       0.75657       0.99701       0.92322       0.94968       0.90261       \n",
            "N(Condition negative)                                             25857097      37298558      36193179      38894775      20068230      38854432      38818044      39266885      \n",
            "NLR(Negative likelihood ratio)                                    0.00305       0.02601       0.01961       0.20163       0.00187       0.09994       0.10238       0.20843       \n",
            "NLRI(Negative likelihood ratio interpretation)                    Good          Good          Good          Poor          Good          Good          Fair          Poor          \n",
            "NPV(Negative predictive value)                                    0.99841       0.99859       0.99831       0.99779       0.99821       0.9988        0.99867       0.99971       \n",
            "OC(Overlap coefficient)                                           0.99934       0.97403       0.98046       0.79893       0.9988        0.92442       0.95101       0.9029        \n",
            "OOC(Otsuka-Ochiai coefficient)                                    0.99815       0.97329       0.97016       0.7786        0.99847       0.9122        0.92396       0.84542       \n",
            "OP(Optimized precision)                                           0.99737       0.98484       0.98709       0.88467       0.99814       0.94583       0.94448       0.88332       \n",
            "P(Condition positive or support)                                  13464503      2023042       3128421       426825        19253370      467168        503556        54715         \n",
            "PLR(Positive likelihood ratio)                                    2913.78407    653.29571     277.5082      286.64447     867.7309      1017.2094     1496.44956    6673.11795    \n",
            "PLRI(Positive likelihood ratio interpretation)                    Good          Good          Good          Good          Good          Good          Good          Good          \n",
            "POP(Population)                                                   39321600      39321600      39321600      39321600      39321600      39321600      39321600      39321600      \n",
            "PPV(Precision or positive predictive value)                       0.99934       0.97255       0.95998       0.75878       0.9988        0.92442       0.95101       0.9029        \n",
            "PRE(Prevalence)                                                   0.34242       0.05145       0.07956       0.01085       0.48964       0.01188       0.01281       0.00139       \n",
            "Q(Yule Q - coefficient of colligation)                            1.0           0.99992       0.99986       0.99859       1.0           0.9998        0.99986       0.99994       \n",
            "QI(Yule Q interpretation)                                         Strong        Strong        Strong        Strong        Strong        Strong        Strong        Strong        \n",
            "RACC(Random accuracy)                                             0.11697       0.00265       0.00646       0.00012       0.23958       0.00014       0.00015       0.0           \n",
            "RACCU(Random accuracy unbiased)                                   0.11697       0.00265       0.00647       0.00012       0.23958       0.00014       0.00015       0.0           \n",
            "TN(True negative/correct rejection)                               25848250      37242948      36065306      38786368      20045146      38820049      38794758      39262227      \n",
            "TNR(Specificity or true negative rate)                            0.99966       0.99851       0.99647       0.99721       0.99885       0.99912       0.9994        0.99988       \n",
            "TON(Test outcome negative)                                        25889309      37295494      36126449      38872189      20081152      38866697      38846280      39273630      \n",
            "TOP(Test outcome positive)                                        13432291      2026106       3195151       449411        19240448      454903        475320        47970         \n",
            "TP(True positive/hit)                                             13423444      1970496       3067278       341004        19217364      420520        452034        43312         \n",
            "TPR(Sensitivity, recall, hit rate, or true positive rate)         0.99695       0.97403       0.98046       0.79893       0.99813       0.90015       0.89768       0.79159       \n",
            "Y(Youden index)                                                   0.99661       0.97254       0.97692       0.79614       0.99698       0.89926       0.89708       0.79147       \n",
            "dInd(Distance index)                                              0.00307       0.02602       0.01986       0.20109       0.0022        0.09986       0.10232       0.20841       \n",
            "sInd(Similarity index)                                            0.99783       0.9816        0.98596       0.85781       0.99845       0.92939       0.92765       0.85263       \n",
            "\n"
          ],
          "name": "stdout"
        }
      ]
    },
    {
      "cell_type": "code",
      "metadata": {
        "id": "rLzU1ZZo9nJI",
        "colab_type": "code",
        "colab": {}
      },
      "source": [
        "print(cm, file=open(\"intraobserver_error.rtf\", \"a\"))\n"
      ],
      "execution_count": 0,
      "outputs": []
    },
    {
      "cell_type": "code",
      "metadata": {
        "id": "sV5W6fbZR1z7",
        "colab_type": "code",
        "colab": {}
      },
      "source": [
        "print(cm, file=open(\"intraobserver_error.txt\", \"a\"))"
      ],
      "execution_count": 0,
      "outputs": []
    },
    {
      "cell_type": "code",
      "metadata": {
        "id": "R8r9mGNWRjWE",
        "colab_type": "code",
        "colab": {}
      },
      "source": [
        "\n",
        " "
      ],
      "execution_count": 0,
      "outputs": []
    },
    {
      "cell_type": "code",
      "metadata": {
        "id": "A6nSJ9DdW0d1",
        "colab_type": "code",
        "colab": {}
      },
      "source": [
        ""
      ],
      "execution_count": 0,
      "outputs": []
    },
    {
      "cell_type": "code",
      "metadata": {
        "id": "h-Ax569W4dn8",
        "colab_type": "code",
        "colab": {}
      },
      "source": [
        ""
      ],
      "execution_count": 0,
      "outputs": []
    },
    {
      "cell_type": "code",
      "metadata": {
        "id": "_n8KBTo3vMNj",
        "colab_type": "code",
        "colab": {}
      },
      "source": [
        ""
      ],
      "execution_count": 0,
      "outputs": []
    },
    {
      "cell_type": "code",
      "metadata": {
        "id": "uKVTY2QnyxPN",
        "colab_type": "code",
        "colab": {}
      },
      "source": [
        ""
      ],
      "execution_count": 0,
      "outputs": []
    },
    {
      "cell_type": "code",
      "metadata": {
        "id": "wo8ThakJ50Kt",
        "colab_type": "code",
        "colab": {}
      },
      "source": [
        ""
      ],
      "execution_count": 0,
      "outputs": []
    },
    {
      "cell_type": "code",
      "metadata": {
        "id": "znlIKlV67HjM",
        "colab_type": "code",
        "colab": {}
      },
      "source": [
        ""
      ],
      "execution_count": 0,
      "outputs": []
    },
    {
      "cell_type": "code",
      "metadata": {
        "id": "N4JcWatq7Qqv",
        "colab_type": "code",
        "colab": {}
      },
      "source": [
        ""
      ],
      "execution_count": 0,
      "outputs": []
    },
    {
      "cell_type": "code",
      "metadata": {
        "id": "gVx0KJYB8mki",
        "colab_type": "code",
        "colab": {}
      },
      "source": [
        "\n",
        "\n"
      ],
      "execution_count": 0,
      "outputs": []
    },
    {
      "cell_type": "code",
      "metadata": {
        "id": "gJD8Y1VnAk-L",
        "colab_type": "code",
        "colab": {}
      },
      "source": [
        ""
      ],
      "execution_count": 0,
      "outputs": []
    },
    {
      "cell_type": "code",
      "metadata": {
        "id": "_rk9pGSsOLjV",
        "colab_type": "code",
        "colab": {}
      },
      "source": [
        "\n",
        "\n"
      ],
      "execution_count": 0,
      "outputs": []
    },
    {
      "cell_type": "code",
      "metadata": {
        "id": "SAX1Axr2zjBf",
        "colab_type": "code",
        "colab": {}
      },
      "source": [
        ""
      ],
      "execution_count": 0,
      "outputs": []
    },
    {
      "cell_type": "code",
      "metadata": {
        "id": "WN9k-HkjBAwb",
        "colab_type": "code",
        "colab": {}
      },
      "source": [
        "\n"
      ],
      "execution_count": 0,
      "outputs": []
    },
    {
      "cell_type": "code",
      "metadata": {
        "id": "tZ8AWnGnp3H7",
        "colab_type": "code",
        "colab": {}
      },
      "source": [
        ""
      ],
      "execution_count": 0,
      "outputs": []
    },
    {
      "cell_type": "code",
      "metadata": {
        "id": "_6980rkWqFkH",
        "colab_type": "code",
        "colab": {}
      },
      "source": [
        "\n",
        "    "
      ],
      "execution_count": 0,
      "outputs": []
    },
    {
      "cell_type": "markdown",
      "metadata": {
        "id": "d3BKWCn6wm9T",
        "colab_type": "text"
      },
      "source": [
        ""
      ]
    },
    {
      "cell_type": "code",
      "metadata": {
        "id": "AfUaQHA_qZaP",
        "colab_type": "code",
        "colab": {}
      },
      "source": [
        ""
      ],
      "execution_count": 0,
      "outputs": []
    },
    {
      "cell_type": "code",
      "metadata": {
        "id": "MjbphHWfqmoA",
        "colab_type": "code",
        "colab": {}
      },
      "source": [
        ""
      ],
      "execution_count": 0,
      "outputs": []
    },
    {
      "cell_type": "code",
      "metadata": {
        "id": "rn90WeQiG48w",
        "colab_type": "code",
        "colab": {}
      },
      "source": [
        ""
      ],
      "execution_count": 0,
      "outputs": []
    }
  ]
}