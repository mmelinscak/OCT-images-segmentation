{
  "nbformat": 4,
  "nbformat_minor": 0,
  "metadata": {
    "colab": {
      "name": "interobserver error_IEEE.ipynb",
      "provenance": [],
      "collapsed_sections": [],
      "machine_shape": "hm"
    },
    "kernelspec": {
      "name": "python3",
      "display_name": "Python 3"
    }
  },
  "cells": [
    {
      "cell_type": "code",
      "metadata": {
        "id": "-Mt8X5k7SmBW",
        "colab_type": "code",
        "colab": {
          "base_uri": "https://localhost:8080/",
          "height": 125
        },
        "outputId": "232601d6-0ea5-4a3b-e309-54aefcc7304b"
      },
      "source": [
        "from google.colab import drive\n",
        "drive.mount('/content/drive')"
      ],
      "execution_count": 1,
      "outputs": [
        {
          "output_type": "stream",
          "text": [
            "Go to this URL in a browser: https://accounts.google.com/o/oauth2/auth?client_id=947318989803-6bn6qk8qdgf4n4g3pfee6491hc0brc4i.apps.googleusercontent.com&redirect_uri=urn%3aietf%3awg%3aoauth%3a2.0%3aoob&scope=email%20https%3a%2f%2fwww.googleapis.com%2fauth%2fdocs.test%20https%3a%2f%2fwww.googleapis.com%2fauth%2fdrive%20https%3a%2f%2fwww.googleapis.com%2fauth%2fdrive.photos.readonly%20https%3a%2f%2fwww.googleapis.com%2fauth%2fpeopleapi.readonly&response_type=code\n",
            "\n",
            "Enter your authorization code:\n",
            "4/4AE8VoHLaPNEjT_R_ll4BZa0G8ucShBXaFTPa1znm2FTQiAnXJm3BOo\n",
            "Mounted at /content/drive\n"
          ],
          "name": "stdout"
        }
      ]
    },
    {
      "cell_type": "code",
      "metadata": {
        "id": "mX3o5jDNraNl",
        "colab_type": "code",
        "colab": {
          "base_uri": "https://localhost:8080/",
          "height": 195
        },
        "outputId": "3fe194ad-674b-4de3-f1ba-1302403cf28e"
      },
      "source": [
        "!pip install pycm"
      ],
      "execution_count": 2,
      "outputs": [
        {
          "output_type": "stream",
          "text": [
            "Collecting pycm\n",
            "\u001b[?25l  Downloading https://files.pythonhosted.org/packages/6b/7e/a24676c773bc711858b7b48d519c53c305a49f1ae02887b074a51e1cf1e7/pycm-2.8-py2.py3-none-any.whl (59kB)\n",
            "\r\u001b[K     |█████▌                          | 10kB 19.8MB/s eta 0:00:01\r\u001b[K     |███████████                     | 20kB 6.9MB/s eta 0:00:01\r\u001b[K     |████████████████▌               | 30kB 8.0MB/s eta 0:00:01\r\u001b[K     |██████████████████████          | 40kB 8.5MB/s eta 0:00:01\r\u001b[K     |███████████████████████████▌    | 51kB 7.2MB/s eta 0:00:01\r\u001b[K     |████████████████████████████████| 61kB 4.2MB/s \n",
            "\u001b[?25hRequirement already satisfied: numpy>=1.9.0 in /usr/local/lib/python3.6/dist-packages (from pycm) (1.18.5)\n",
            "Collecting art>=1.8\n",
            "\u001b[?25l  Downloading https://files.pythonhosted.org/packages/22/dd/f7be08119239db50f80285444323e58c81d6443158ac5f8b401b3fedb4d0/art-4.7-py2.py3-none-any.whl (547kB)\n",
            "\u001b[K     |████████████████████████████████| 552kB 9.1MB/s \n",
            "\u001b[?25hInstalling collected packages: art, pycm\n",
            "Successfully installed art-4.7 pycm-2.8\n"
          ],
          "name": "stdout"
        }
      ]
    },
    {
      "cell_type": "code",
      "metadata": {
        "id": "z11NCBaCbTca",
        "colab_type": "code",
        "colab": {}
      },
      "source": [
        "#packages\n",
        "import numpy as np\n",
        "import math\n",
        "import matplotlib.pyplot as plt\n",
        "import matplotlib.image as mpimg\n",
        "import scipy\n",
        "from scipy import ndimage\n",
        "import cv2\n",
        "from PIL import Image\n",
        "from pathlib import Path\n",
        "import os, sys\n",
        "import glob\n",
        "import pycm\n",
        "from pycm import *"
      ],
      "execution_count": 3,
      "outputs": []
    },
    {
      "cell_type": "markdown",
      "metadata": {
        "id": "4nEeGpz4EQfb",
        "colab_type": "text"
      },
      "source": [
        "Loading images"
      ]
    },
    {
      "cell_type": "code",
      "metadata": {
        "id": "ivoeqscGcbZQ",
        "colab_type": "code",
        "colab": {}
      },
      "source": [
        "IMG_WIDTH = 512\n",
        "IMG_HEIGHT = 1024\n",
        "IMG_CHANNELS = 1\n",
        "\n",
        "# paths to image folders \n",
        "GT_path='/content/drive/My Drive/Colab Notebooks/interobserver/GT'\n",
        "inter_path='/content/drive/My Drive/Colab Notebooks/interobserver/interobserver'\n",
        "intra_path='/content/drive/My Drive/Colab Notebooks/interobserver/intraobserver'\n"
      ],
      "execution_count": 4,
      "outputs": []
    },
    {
      "cell_type": "code",
      "metadata": {
        "id": "UH1OoJvNIF43",
        "colab_type": "code",
        "colab": {}
      },
      "source": [
        "# reading images \n",
        "# fuction return values of images as array [number of images, image_height, image_width, img_channels]\n",
        "\n",
        "def load_data (path1, path2, path3, total=75):\n",
        "  m=os.listdir(path1) \n",
        "  img1 = np.zeros((total, IMG_HEIGHT, IMG_WIDTH, IMG_CHANNELS))\n",
        "  img2 = np.zeros((total, IMG_HEIGHT, IMG_WIDTH, IMG_CHANNELS))\n",
        "  img3 = np.zeros((total, IMG_HEIGHT, IMG_WIDTH, IMG_CHANNELS))\n",
        "  for i in range (0, total):\n",
        "   sample1 = cv2.imread(path1 + '/' + m[i], 0) \n",
        "   img1[i] = np.reshape(sample1, (IMG_HEIGHT, IMG_WIDTH, IMG_CHANNELS))\n",
        "   sample2 = cv2.imread(path2 + '/' + m[i], 0) \n",
        "   img2[i] = np.reshape(sample2, (IMG_HEIGHT, IMG_WIDTH, IMG_CHANNELS))\n",
        "   sample3 = cv2.imread(path3 + '/' + m[i], 0) \n",
        "   img3[i] = np.reshape(sample3, (IMG_HEIGHT, IMG_WIDTH, IMG_CHANNELS))\n",
        "  return img1, img2, img3"
      ],
      "execution_count": 5,
      "outputs": []
    },
    {
      "cell_type": "code",
      "metadata": {
        "id": "KfRJCVhwLC4y",
        "colab_type": "code",
        "colab": {}
      },
      "source": [
        "GT_images, inter_images, intra_images = load_data (GT_path, inter_path, intra_path, total=75)"
      ],
      "execution_count": 41,
      "outputs": []
    },
    {
      "cell_type": "markdown",
      "metadata": {
        "id": "6Vl47oWaELiJ",
        "colab_type": "text"
      },
      "source": [
        "Plotting images\n",
        "- cheking if everything is ok"
      ]
    },
    {
      "cell_type": "code",
      "metadata": {
        "id": "ce3nf3hvOLIf",
        "colab_type": "code",
        "colab": {}
      },
      "source": [
        "# colour definition\n",
        "black = np.array([0, 0, 0, 255])\n",
        "white = np.array([255, 255, 255, 255])\n",
        "yellow = np.array([255, 255, 0, 255])\n",
        "red = np.array([255, 0, 0, 255]) \n",
        "blue = np.array([0, 0, 255, 255])\n",
        "light_blue = np.array([0, 255, 255, 255])\n",
        "green = np.array([0, 255, 0, 255])\n",
        "pink = np.array([255, 0, 255, 255]) \n",
        "\n",
        "# function which trasform mask values 0,1,2,3,4,5,6,7 into colours\n",
        "def num_to_colors (mask, height, width):\n",
        "    col_mask = np.zeros((height, width, 4))\n",
        "    for j in range (0,width):\n",
        "        for i in range (0,height):\n",
        "            if (mask[i,j]==0):\n",
        "                col_mask[i,j]=black\n",
        "            elif (mask[i,j]==1):\n",
        "                col_mask[i,j]= red\n",
        "            elif (mask[i,j]==2):\n",
        "                col_mask[i,j]=yellow\n",
        "            elif (mask[i,j]==3):\n",
        "                col_mask[i,j]=green\n",
        "            elif (mask[i,j]==4):\n",
        "                col_mask[i,j]=blue\n",
        "            elif (mask[i,j]==5):\n",
        "                col_mask[i,j]=light_blue\n",
        "            elif (mask[i,j]==6):\n",
        "                col_mask[i,j]=pink\n",
        "            elif (mask[i,j]==7):\n",
        "                col_mask[i,j]=white\n",
        "           \n",
        "    return col_mask\n"
      ],
      "execution_count": 7,
      "outputs": []
    },
    {
      "cell_type": "code",
      "metadata": {
        "id": "Bl0IrIbSMx21",
        "colab_type": "code",
        "colab": {
          "base_uri": "https://localhost:8080/",
          "height": 734
        },
        "outputId": "482d9481-a15e-4601-8633-3a9a0903d5d4"
      },
      "source": [
        "#plotting images\n",
        "m=os.listdir(GT_path)\n",
        "i = np.random.randint(0, 75)\n",
        "print('Image id:',i ,  m[i])\n",
        "print()\n",
        "plt.figure(figsize=(20, 20))\n",
        "plt.subplot(1, 3, 1)\n",
        "plt.title('GT')\n",
        "mask1 = np.reshape(GT_images[i], (IMG_HEIGHT, IMG_WIDTH))\n",
        "mask1 = num_to_colors (mask1, IMG_HEIGHT, IMG_WIDTH)\n",
        "plt.imshow(mask1)\n",
        "plt.subplot(1, 3, 2)\n",
        "plt.title('inter')\n",
        "mask2 = np.reshape(inter_images[i], (IMG_HEIGHT, IMG_WIDTH))\n",
        "mask2 = num_to_colors (mask2, IMG_HEIGHT, IMG_WIDTH)\n",
        "plt.imshow(mask2)\n",
        "plt.subplot(1, 3, 3)\n",
        "plt.title('intra')\n",
        "mask3 = np.reshape(intra_images[i], (IMG_HEIGHT, IMG_WIDTH))\n",
        "mask3 = num_to_colors (mask3, IMG_HEIGHT, IMG_WIDTH)\n",
        "plt.imshow(mask3)\n",
        "plt.show()\n"
      ],
      "execution_count": 42,
      "outputs": [
        {
          "output_type": "stream",
          "text": [
            "Image id: 21 scan (31).png\n",
            "\n"
          ],
          "name": "stdout"
        },
        {
          "output_type": "stream",
          "text": [
            "Clipping input data to the valid range for imshow with RGB data ([0..1] for floats or [0..255] for integers).\n",
            "Clipping input data to the valid range for imshow with RGB data ([0..1] for floats or [0..255] for integers).\n",
            "Clipping input data to the valid range for imshow with RGB data ([0..1] for floats or [0..255] for integers).\n"
          ],
          "name": "stderr"
        },
        {
          "output_type": "display_data",
          "data": {
            "image/png": "[encoded data removed]",
            "text/plain": [
              "<Figure size 1440x1440 with 3 Axes>"
            ]
          },
          "metadata": {
            "tags": [],
            "needs_background": "light"
          }
        }
      ]
    },
    {
      "cell_type": "code",
      "metadata": {
        "id": "dHPByOuPRDGc",
        "colab_type": "code",
        "colab": {}
      },
      "source": [
        "GT_vector=GT_images[0].flatten()\n",
        "for k  in range(1,75):\n",
        "    GT_vector=np.concatenate((GT_vector, GT_images[k].flatten()), axis=0)\n"
      ],
      "execution_count": 43,
      "outputs": []
    },
    {
      "cell_type": "code",
      "metadata": {
        "id": "_-V4ZuiedWXR",
        "colab_type": "code",
        "colab": {
          "base_uri": "https://localhost:8080/",
          "height": 52
        },
        "outputId": "d5cc03dd-c71a-4fe4-9818-d4ca1cb4555c"
      },
      "source": [
        "print(np.shape(GT_vector))\n",
        "print(75*1024*512)"
      ],
      "execution_count": 44,
      "outputs": [
        {
          "output_type": "stream",
          "text": [
            "(39321600,)\n",
            "39321600\n"
          ],
          "name": "stdout"
        }
      ]
    },
    {
      "cell_type": "code",
      "metadata": {
        "id": "DlMKvgn9d6kv",
        "colab_type": "code",
        "colab": {}
      },
      "source": [
        "inter_vector=inter_images[0].flatten()\n",
        "for k  in range(1,75):\n",
        "    inter_vector=np.concatenate((inter_vector, inter_images[k].flatten()), axis=0)"
      ],
      "execution_count": 11,
      "outputs": []
    },
    {
      "cell_type": "code",
      "metadata": {
        "id": "g3ntnqrd9G_C",
        "colab_type": "code",
        "colab": {}
      },
      "source": [
        "intra_vector=intra_images[0].flatten()\n",
        "for k  in range(1,75):\n",
        "    intra_vector=np.concatenate((intra_vector, intra_images[k].flatten()), axis=0)"
      ],
      "execution_count": 45,
      "outputs": []
    },
    {
      "cell_type": "code",
      "metadata": {
        "id": "B8jkzpynd_dP",
        "colab_type": "code",
        "colab": {}
      },
      "source": [
        "cm = ConfusionMatrix(actual_vector=GT_vector, predict_vector=intra_vector)"
      ],
      "execution_count": 46,
      "outputs": []
    },
    {
      "cell_type": "code",
      "metadata": {
        "id": "k-qGQW6IwBGn",
        "colab_type": "code",
        "colab": {
          "base_uri": "https://localhost:8080/",
          "height": 34
        },
        "outputId": "240760a6-db3c-4c49-e6c8-004c92c91e02"
      },
      "source": [
        "cm.classes"
      ],
      "execution_count": 47,
      "outputs": [
        {
          "output_type": "execute_result",
          "data": {
            "text/plain": [
              "[0.0, 1.0, 2.0, 3.0, 4.0, 5.0, 6.0, 7.0]"
            ]
          },
          "metadata": {
            "tags": []
          },
          "execution_count": 47
        }
      ]
    },
    {
      "cell_type": "code",
      "metadata": {
        "id": "dN0rF7FG7EqN",
        "colab_type": "code",
        "colab": {}
      },
      "source": [
        "#print(cm)"
      ],
      "execution_count": 15,
      "outputs": []
    },
    {
      "cell_type": "code",
      "metadata": {
        "id": "gzPG-2oMOfX7",
        "colab_type": "code",
        "colab": {}
      },
      "source": [
        "#cm.print_matrix()"
      ],
      "execution_count": 16,
      "outputs": []
    },
    {
      "cell_type": "code",
      "metadata": {
        "id": "JNiii1O7Oi3L",
        "colab_type": "code",
        "colab": {}
      },
      "source": [
        "#cm.print_normalized_matrix()"
      ],
      "execution_count": 17,
      "outputs": []
    },
    {
      "cell_type": "code",
      "metadata": {
        "id": "Cvi9xHpCOnTc",
        "colab_type": "code",
        "colab": {}
      },
      "source": [
        "from sklearn.metrics import confusion_matrix"
      ],
      "execution_count": 48,
      "outputs": []
    },
    {
      "cell_type": "code",
      "metadata": {
        "id": "SW-0Uz6XOrzy",
        "colab_type": "code",
        "colab": {}
      },
      "source": [
        "import seaborn as sns\n",
        "cf_matrix = confusion_matrix(GT_vector, intra_vector)"
      ],
      "execution_count": 49,
      "outputs": []
    },
    {
      "cell_type": "code",
      "metadata": {
        "id": "UEdKJ7dTO0Di",
        "colab_type": "code",
        "colab": {}
      },
      "source": [
        "#print(cf_matrix)"
      ],
      "execution_count": 50,
      "outputs": []
    },
    {
      "cell_type": "code",
      "metadata": {
        "id": "rBddWMx1O4cR",
        "colab_type": "code",
        "colab": {}
      },
      "source": [
        "cf_matrix_normal = cf_matrix.astype('float32') / cf_matrix.sum(axis=1)[:, np.newaxis]\n",
        "#print(cf_matrix_normal )"
      ],
      "execution_count": 52,
      "outputs": []
    },
    {
      "cell_type": "code",
      "metadata": {
        "id": "NknJ1oVbPCEg",
        "colab_type": "code",
        "colab": {}
      },
      "source": [
        "import numpy as np\n",
        "import matplotlib.pyplot as plt\n",
        "import seaborn as sns\n",
        "\n",
        "def make_confusion_matrix(cf,\n",
        "                          group_names=None,\n",
        "                          categories='auto',\n",
        "                          count=True,\n",
        "                          percent=True,\n",
        "                          cbar=True,\n",
        "                          xyticks=True,\n",
        "                          xyplotlabels=True,\n",
        "                          sum_stats=True,\n",
        "                          figsize=None,\n",
        "                          cmap='Blues',\n",
        "                          title=None):\n",
        "    '''\n",
        "    This function will make a pretty plot of an sklearn Confusion Matrix cm using a Seaborn heatmap visualization.\n",
        "    Arguments\n",
        "    ---------\n",
        "    cf:            confusion matrix to be passed in\n",
        "    group_names:   List of strings that represent the labels row by row to be shown in each square.\n",
        "    categories:    List of strings containing the categories to be displayed on the x,y axis. Default is 'auto'\n",
        "    count:         If True, show the raw number in the confusion matrix. Default is True.\n",
        "    normalize:     If True, show the proportions for each category. Default is True.\n",
        "    cbar:          If True, show the color bar. The cbar values are based off the values in the confusion matrix.\n",
        "                   Default is True.\n",
        "    xyticks:       If True, show x and y ticks. Default is True.\n",
        "    xyplotlabels:  If True, show 'True Label' and 'Predicted Label' on the figure. Default is True.\n",
        "    sum_stats:     If True, display summary statistics below the figure. Default is True.\n",
        "    figsize:       Tuple representing the figure size. Default will be the matplotlib rcParams value.\n",
        "    cmap:          Colormap of the values displayed from matplotlib.pyplot.cm. Default is 'Blues'\n",
        "                   See http://matplotlib.org/examples/color/colormaps_reference.html\n",
        "                   \n",
        "    title:         Title for the heatmap. Default is None.\n",
        "    '''\n",
        "\n",
        "\n",
        "    # CODE TO GENERATE TEXT INSIDE EACH SQUARE\n",
        "    blanks = ['' for i in range(cf.size)]\n",
        "\n",
        "    if group_names and len(group_names)==cf.size:\n",
        "        group_labels = [\"{}\\n\".format(value) for value in group_names]\n",
        "    else:\n",
        "        group_labels = blanks\n",
        "\n",
        "    if count:\n",
        "        group_counts = [\"{0:0.2f}\\n\".format(value) for value in cf.flatten()]\n",
        "    else:\n",
        "        group_counts = blanks\n",
        "\n",
        "    if percent:\n",
        "        group_percentages = [\"{0:.2%}\".format(value) for value in cf.flatten()/np.sum(cf)]\n",
        "    else:\n",
        "        group_percentages = blanks\n",
        "\n",
        "    box_labels = [f\"{v1}{v2}{v3}\".strip() for v1, v2, v3 in zip(group_labels,group_counts,group_percentages)]\n",
        "    box_labels = np.asarray(box_labels).reshape(cf.shape[0],cf.shape[1])\n",
        "\n",
        "\n",
        "    # CODE TO GENERATE SUMMARY STATISTICS & TEXT FOR SUMMARY STATS\n",
        "    if sum_stats:\n",
        "        #Accuracy is sum of diagonal divided by total observations\n",
        "        accuracy  = np.trace(cf) / float(np.sum(cf))\n",
        "\n",
        "        #if it is a binary confusion matrix, show some more stats\n",
        "        if len(cf)==2:\n",
        "            #Metrics for Binary Confusion Matrices\n",
        "            precision = cf[1,1] / sum(cf[:,1])\n",
        "            recall    = cf[1,1] / sum(cf[1,:])\n",
        "            f1_score  = 2*precision*recall / (precision + recall)\n",
        "            stats_text = \"\\n\\nAccuracy={:0.3f}\\nPrecision={:0.3f}\\nRecall={:0.3f}\\nF1 Score={:0.3f}\".format(\n",
        "                accuracy,precision,recall,f1_score)\n",
        "        else:\n",
        "            stats_text = \"\\n\\nAccuracy={:0.3f}\".format(accuracy)\n",
        "    else:\n",
        "        stats_text = \"\"\n",
        "\n",
        "\n",
        "    # SET FIGURE PARAMETERS ACCORDING TO OTHER ARGUMENTS\n",
        "    if figsize==None:\n",
        "        #Get default figure size if not set\n",
        "        figsize = plt.rcParams.get('figure.figsize')\n",
        "\n",
        "    if xyticks==False:\n",
        "        #Do not show categories if xyticks is False\n",
        "        categories=False\n",
        "\n",
        "\n",
        "    # MAKE THE HEATMAP VISUALIZATION\n",
        "    plt.figure(figsize=figsize)\n",
        "    sns.heatmap(cf,annot=box_labels,fmt=\"\",cmap=cmap,cbar=cbar,xticklabels=categories,yticklabels=categories)\n",
        "\n",
        "    if xyplotlabels:\n",
        "        plt.ylabel('True label')\n",
        "        plt.xlabel('Predicted label' + stats_text)\n",
        "    else:\n",
        "        plt.xlabel(stats_text)\n",
        "    \n",
        "    if title:\n",
        "        plt.title(title)"
      ],
      "execution_count": 53,
      "outputs": []
    },
    {
      "cell_type": "code",
      "metadata": {
        "id": "Th3b8sdt8zA5",
        "colab_type": "code",
        "colab": {}
      },
      "source": [
        "cm = ConfusionMatrix(actual_vector=GT_vector, predict_vector=intra_vector)\n"
      ],
      "execution_count": 55,
      "outputs": []
    },
    {
      "cell_type": "code",
      "metadata": {
        "id": "VERW_06-PDmZ",
        "colab_type": "code",
        "colab": {
          "base_uri": "https://localhost:8080/",
          "height": 411
        },
        "outputId": "cc608a6b-1158-499f-b545-c205d7e226be"
      },
      "source": [
        "make_confusion_matrix(cf_matrix_normal, count = True, percent = False, figsize=(6,6), cbar=False, cmap='Reds')"
      ],
      "execution_count": 56,
      "outputs": [
        {
          "output_type": "display_data",
          "data": {
            "image/png": "[encoded data removed]",
            "text/plain": [
              "<Figure size 432x432 with 1 Axes>"
            ]
          },
          "metadata": {
            "tags": [],
            "needs_background": "light"
          }
        }
      ]
    },
    {
      "cell_type": "code",
      "metadata": {
        "id": "5DkXRvxP7YKm",
        "colab_type": "code",
        "colab": {
          "base_uri": "https://localhost:8080/",
          "height": 52
        },
        "outputId": "3558b2fa-0134-4cd1-c6f7-46f9fe1a051b"
      },
      "source": [
        "from sklearn.metrics import f1_score\n",
        "print(f1_score(GT_vector, intra_vector, labels=[0,1,2,3,4,5,6,7], average=None))"
      ],
      "execution_count": 57,
      "outputs": [
        {
          "output_type": "stream",
          "text": [
            "[0.99814454 0.9732892  0.9701093  0.77833826 0.99846495 0.91212065\n",
            " 0.92357765 0.84358962]\n"
          ],
          "name": "stdout"
        }
      ]
    },
    {
      "cell_type": "code",
      "metadata": {
        "id": "TWTky6RW4shy",
        "colab_type": "code",
        "colab": {
          "base_uri": "https://localhost:8080/",
          "height": 34
        },
        "outputId": "2fde97e2-3d2a-4364-9147-5111aece2c65"
      },
      "source": [
        "from sklearn.metrics import f1_score\n",
        "dice = np.zeros((75,1))\n",
        "for i in range(0,75):\n",
        "  GT_vector=GT_images[i].flatten()\n",
        "  intra_vector=intra_images[i].flatten()\n",
        "  dice[i] = f1_score(GT_vector, intra_vector, labels=[0], average=None, zero_division=1)\n",
        "  \n",
        "\n",
        "print('mean:', np.mean(dice), 'std:', np.std(dice) )\n"
      ],
      "execution_count": 66,
      "outputs": [
        {
          "output_type": "stream",
          "text": [
            "mean: 0.997781124508196 std: 0.0026087700570804643\n"
          ],
          "name": "stdout"
        }
      ]
    },
    {
      "cell_type": "code",
      "metadata": {
        "id": "sPUUwrIlQfQB",
        "colab_type": "code",
        "colab": {}
      },
      "source": [
        "#cm = ConfusionMatrix(actual_vector=GT_vector, predict_vector=intra_vector)"
      ],
      "execution_count": null,
      "outputs": []
    },
    {
      "cell_type": "code",
      "metadata": {
        "id": "-7OAdEOpNft9",
        "colab_type": "code",
        "colab": {}
      },
      "source": [
        "#print(cm)\n"
      ],
      "execution_count": 28,
      "outputs": []
    },
    {
      "cell_type": "code",
      "metadata": {
        "id": "2VtHKr6r8S7Y",
        "colab_type": "code",
        "colab": {}
      },
      "source": [
        ""
      ],
      "execution_count": null,
      "outputs": []
    }
  ]
}